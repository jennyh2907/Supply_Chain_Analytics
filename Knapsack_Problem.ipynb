{
  "cells": [
    {
      "cell_type": "code",
      "execution_count": 18,
      "metadata": {
        "id": "G15AJEZkLCFz"
      },
      "outputs": [],
      "source": [
        "import numpy as np\n",
        "import pandas as pd\n",
        "import random\n",
        "import matplotlib.pyplot as plt\n",
        "import math"
      ]
    },
    {
      "cell_type": "markdown",
      "metadata": {
        "id": "U-px9MIpOI-T"
      },
      "source": [
        "### Knapsack Problem"
      ]
    },
    {
      "cell_type": "code",
      "execution_count": null,
      "metadata": {
        "colab": {
          "base_uri": "https://localhost:8080/"
        },
        "id": "91gO_iObNDg8",
        "outputId": "c42690e8-0b0e-466d-8eaf-0141d0c2f80a"
      },
      "outputs": [
        {
          "name": "stdout",
          "output_type": "stream",
          "text": [
            "\u001b[2K     \u001b[90m━━━━━━━━━━━━━━━━━━━━━━━━━━━━━━━━━━━━━━━━\u001b[0m \u001b[32m11.0/11.0 MB\u001b[0m \u001b[31m33.3 MB/s\u001b[0m eta \u001b[36m0:00:00\u001b[0m\n",
            "\u001b[2K     \u001b[90m━━━━━━━━━━━━━━━━━━━━━━━━━━━━━━━━━━━━━━━━\u001b[0m \u001b[32m49.6/49.6 KB\u001b[0m \u001b[31m3.5 MB/s\u001b[0m eta \u001b[36m0:00:00\u001b[0m\n",
            "\u001b[?25hSelecting previously unselected package libsuitesparseconfig5:amd64.\n",
            "(Reading database ... 122349 files and directories currently installed.)\n",
            "Preparing to unpack .../libsuitesparseconfig5_1%3a5.7.1+dfsg-2_amd64.deb ...\n",
            "Unpacking libsuitesparseconfig5:amd64 (1:5.7.1+dfsg-2) ...\n",
            "Selecting previously unselected package libamd2:amd64.\n",
            "Preparing to unpack .../libamd2_1%3a5.7.1+dfsg-2_amd64.deb ...\n",
            "Unpacking libamd2:amd64 (1:5.7.1+dfsg-2) ...\n",
            "Selecting previously unselected package libcolamd2:amd64.\n",
            "Preparing to unpack .../libcolamd2_1%3a5.7.1+dfsg-2_amd64.deb ...\n",
            "Unpacking libcolamd2:amd64 (1:5.7.1+dfsg-2) ...\n",
            "Selecting previously unselected package libglpk40:amd64.\n",
            "Preparing to unpack .../libglpk40_4.65-2_amd64.deb ...\n",
            "Unpacking libglpk40:amd64 (4.65-2) ...\n",
            "Selecting previously unselected package glpk-utils.\n",
            "Preparing to unpack .../glpk-utils_4.65-2_amd64.deb ...\n",
            "Unpacking glpk-utils (4.65-2) ...\n",
            "Setting up libsuitesparseconfig5:amd64 (1:5.7.1+dfsg-2) ...\n",
            "Setting up libamd2:amd64 (1:5.7.1+dfsg-2) ...\n",
            "Setting up libcolamd2:amd64 (1:5.7.1+dfsg-2) ...\n",
            "Setting up libglpk40:amd64 (4.65-2) ...\n",
            "Setting up glpk-utils (4.65-2) ...\n",
            "Processing triggers for man-db (2.9.1-1) ...\n",
            "Processing triggers for libc-bin (2.31-0ubuntu9.9) ...\n"
          ]
        }
      ],
      "source": [
        "!pip install -q pyomo\n",
        "!apt-get install -y -qq glpk-utils"
      ]
    },
    {
      "cell_type": "code",
      "execution_count": null,
      "metadata": {
        "id": "oDFbhXdwM4pz"
      },
      "outputs": [],
      "source": [
        "from pyomo.environ import *"
      ]
    },
    {
      "cell_type": "markdown",
      "metadata": {
        "id": "AR7EGoeHNLoy"
      },
      "source": [
        "1. Model the above problem as a LP.\n",
        "2. Consider a specific instance of the problem with N = 3 and W = 4 Let v = (2,3,4) and w = (5,20,3) Use Pyomo to obtain the optimal solution"
      ]
    },
    {
      "cell_type": "code",
      "execution_count": null,
      "metadata": {
        "colab": {
          "base_uri": "https://localhost:8080/"
        },
        "id": "dLTaW3q-PBUK",
        "outputId": "3b53d0a7-6b14-420d-d576-201b75fa17d4"
      },
      "outputs": [
        {
          "name": "stdout",
          "output_type": "stream",
          "text": [
            "3 Var Declarations\n",
            "    x1 : Size=1, Index=None\n",
            "        Key  : Lower : Value : Upper : Fixed : Stale : Domain\n",
            "        None :     0 :  None :  None : False :  True : NonNegativeReals\n",
            "    x2 : Size=1, Index=None\n",
            "        Key  : Lower : Value : Upper : Fixed : Stale : Domain\n",
            "        None :     0 :  None :  None : False :  True : NonNegativeReals\n",
            "    x3 : Size=1, Index=None\n",
            "        Key  : Lower : Value : Upper : Fixed : Stale : Domain\n",
            "        None :     0 :  None :  None : False :  True : NonNegativeReals\n",
            "\n",
            "1 Objective Declarations\n",
            "    profit : Size=1, Index=None, Active=True\n",
            "        Key  : Active : Sense    : Expression\n",
            "        None :   True : maximize : 2*x1 + 3*x2 + 4*x3\n",
            "\n",
            "4 Constraint Declarations\n",
            "    capacity_limit : Size=1, Index=None, Active=True\n",
            "        Key  : Lower : Body                : Upper : Active\n",
            "        None :  -Inf : 5*x1 + 20*x2 + 3*x3 :   4.0 :   True\n",
            "    total_limit1 : Size=1, Index=None, Active=True\n",
            "        Key  : Lower : Body : Upper : Active\n",
            "        None :  -Inf :   x1 :   1.0 :   True\n",
            "    total_limit2 : Size=1, Index=None, Active=True\n",
            "        Key  : Lower : Body : Upper : Active\n",
            "        None :  -Inf :   x2 :   1.0 :   True\n",
            "    total_limit3 : Size=1, Index=None, Active=True\n",
            "        Key  : Lower : Body : Upper : Active\n",
            "        None :  -Inf :   x3 :   1.0 :   True\n",
            "\n",
            "8 Declarations: x1 x2 x3 profit capacity_limit total_limit1 total_limit2 total_limit3\n"
          ]
        }
      ],
      "source": [
        "model = ConcreteModel()\n",
        "\n",
        "# Declare decision variables\n",
        "model.x1 = Var(domain = NonNegativeReals) # First Good\n",
        "model.x2 = Var(domain = NonNegativeReals) # Second Good\n",
        "model.x3 = Var(domain = NonNegativeReals) # Third Good\n",
        "\n",
        "# Declare Objective\n",
        "model.profit = Objective(expr = 2 * model.x1 + 3 * model.x2 + 4 * model.x3, sense = maximize)\n",
        "\n",
        "# Declare Constraints\n",
        "model.capacity_limit = Constraint(expr = 5 * model.x1 + 20 * model.x2 + 3 * model.x3 <= 4)\n",
        "model.total_limit1 = Constraint(expr = model.x1 <= 1)\n",
        "model.total_limit2 = Constraint(expr = model.x2 <= 1)\n",
        "model.total_limit3 = Constraint(expr = model.x3 <= 1)\n",
        "\n",
        "model.pprint()\n"
      ]
    },
    {
      "cell_type": "code",
      "execution_count": null,
      "metadata": {
        "colab": {
          "base_uri": "https://localhost:8080/"
        },
        "id": "sStEngX8kYgY",
        "outputId": "21d103b3-d622-45f9-bfe4-978a7321c262"
      },
      "outputs": [
        {
          "name": "stdout",
          "output_type": "stream",
          "text": [
            "# ==========================================================\n",
            "# = Solver Results                                         =\n",
            "# ==========================================================\n",
            "# ----------------------------------------------------------\n",
            "#   Problem Information\n",
            "# ----------------------------------------------------------\n",
            "Problem: \n",
            "- Name: unknown\n",
            "  Lower bound: 4.4\n",
            "  Upper bound: 4.4\n",
            "  Number of objectives: 1\n",
            "  Number of constraints: 5\n",
            "  Number of variables: 4\n",
            "  Number of nonzeros: 7\n",
            "  Sense: maximize\n",
            "# ----------------------------------------------------------\n",
            "#   Solver Information\n",
            "# ----------------------------------------------------------\n",
            "Solver: \n",
            "- Status: ok\n",
            "  Termination condition: optimal\n",
            "  Statistics: \n",
            "    Branch and bound: \n",
            "      Number of bounded subproblems: 0\n",
            "      Number of created subproblems: 0\n",
            "  Error rc: 0\n",
            "  Time: 0.014998197555541992\n",
            "# ----------------------------------------------------------\n",
            "#   Solution Information\n",
            "# ----------------------------------------------------------\n",
            "Solution: \n",
            "- number of solutions: 0\n",
            "  number of solutions displayed: 0\n",
            "\n",
            "Profit =  4.4\n",
            "\n",
            "Decision Variables\n",
            "x1 =  0.2\n",
            "x2 =  0.0\n",
            "x3 =  1.0\n",
            "\n",
            "Constraints\n",
            "Capacity Limit =  4.0\n",
            "Total Limit1 =  0.2\n",
            "Total Limit2 =  0.0\n",
            "Total Limit3 =  1.0\n"
          ]
        }
      ],
      "source": [
        "SolverFactory('glpk', executable='/usr/bin/glpsol').solve(model).write()\n",
        "\n",
        "# display solution\n",
        "print('\\nProfit = ', model.profit())\n",
        "\n",
        "print('\\nDecision Variables')\n",
        "print('x1 = ', model.x1())\n",
        "print('x2 = ', model.x2())\n",
        "print('x3 = ', model.x3())\n",
        "\n",
        "print('\\nConstraints')\n",
        "print('Capacity Limit = ', model.capacity_limit())\n",
        "print('Total Limit1 = ', model.total_limit1())\n",
        "print('Total Limit2 = ', model.total_limit2())\n",
        "print('Total Limit3 = ', model.total_limit3())\n"
      ]
    },
    {
      "cell_type": "markdown",
      "metadata": {
        "id": "Qy2GYCqmmukT"
      },
      "source": [
        "3. Which constraints are tight/binding ?\n",
        "\n",
        "  When inequalities be satisfies with equality, the constraint is tight. Hence, in this case, the capacity limit contraint and total limit 3 constraint is tight."
      ]
    },
    {
      "cell_type": "markdown",
      "metadata": {
        "id": "W9oG791GmxS4"
      },
      "source": [
        "4. Suppose a crime syndicate wants to buy out the thief. They offer to pay the thief a price y1 for the gold, a price y2 for the diamonds, a price y3 for the silver, and a price y4 per lb for the knapsack. The syndicate wants to minimize the price it pays for the goods. What is the solution for this problem. What is the connection to the previous problem ? (Assume the thief hasn't stole anything)\n",
        "\n",
        "  The solution is listed as following, (y1, y2, y3, y4) = (0, 0, 2.8, 0.4), profit = 4.4. It's not hard to observe that the profit is as same as the first part, which is an example of duality."
      ]
    },
    {
      "cell_type": "code",
      "execution_count": null,
      "metadata": {
        "colab": {
          "base_uri": "https://localhost:8080/"
        },
        "id": "CLMmkeqPl_7W",
        "outputId": "6483f25e-26b8-4790-c306-7978a87b9d2f"
      },
      "outputs": [
        {
          "name": "stdout",
          "output_type": "stream",
          "text": [
            "4 Var Declarations\n",
            "    y1 : Size=1, Index=None\n",
            "        Key  : Lower : Value : Upper : Fixed : Stale : Domain\n",
            "        None :     0 :  None :  None : False :  True : NonNegativeReals\n",
            "    y2 : Size=1, Index=None\n",
            "        Key  : Lower : Value : Upper : Fixed : Stale : Domain\n",
            "        None :     0 :  None :  None : False :  True : NonNegativeReals\n",
            "    y3 : Size=1, Index=None\n",
            "        Key  : Lower : Value : Upper : Fixed : Stale : Domain\n",
            "        None :     0 :  None :  None : False :  True : NonNegativeReals\n",
            "    y4 : Size=1, Index=None\n",
            "        Key  : Lower : Value : Upper : Fixed : Stale : Domain\n",
            "        None :     0 :  None :  None : False :  True : NonNegativeReals\n",
            "\n",
            "1 Objective Declarations\n",
            "    profit : Size=1, Index=None, Active=True\n",
            "        Key  : Active : Sense    : Expression\n",
            "        None :   True : minimize : y1 + y2 + y3 + 4*y4\n",
            "\n",
            "3 Constraint Declarations\n",
            "    dual_1 : Size=1, Index=None, Active=True\n",
            "        Key  : Lower : Body      : Upper : Active\n",
            "        None :   2.0 : y1 + 5*y4 :  +Inf :   True\n",
            "    dual_2 : Size=1, Index=None, Active=True\n",
            "        Key  : Lower : Body       : Upper : Active\n",
            "        None :   3.0 : y2 + 20*y4 :  +Inf :   True\n",
            "    dual_3 : Size=1, Index=None, Active=True\n",
            "        Key  : Lower : Body      : Upper : Active\n",
            "        None :   4.0 : y3 + 3*y4 :  +Inf :   True\n",
            "\n",
            "8 Declarations: y1 y2 y3 y4 profit dual_1 dual_2 dual_3\n"
          ]
        }
      ],
      "source": [
        "model = ConcreteModel()\n",
        "\n",
        "# Declare decision variables\n",
        "model.y1 = Var(domain = NonNegativeReals) # First Good Price\n",
        "model.y2 = Var(domain = NonNegativeReals) # Second Good Price\n",
        "model.y3 = Var(domain = NonNegativeReals) # Third Good Price\n",
        "model.y4 = Var(domain = NonNegativeReals) # Per LB in knapsack\n",
        "\n",
        "# Declare Objective\n",
        "model.profit = Objective(expr = model.y1 + model.y2 + model.y3 + 4 * model.y4, sense = minimize)\n",
        "\n",
        "# Declare Constraints\n",
        "model.dual_1 = Constraint(expr = model.y1 + 5 * model.y4 >= 2)\n",
        "model.dual_2 = Constraint(expr = model.y2 + 20 * model.y4 >= 3)\n",
        "model.dual_3 = Constraint(expr = model.y3 + 3 * model.y4 >= 4)\n",
        "\n",
        "model.pprint()\n"
      ]
    },
    {
      "cell_type": "code",
      "execution_count": null,
      "metadata": {
        "colab": {
          "base_uri": "https://localhost:8080/"
        },
        "id": "fdTPyXCwqr0b",
        "outputId": "0f1f5e1e-7e93-4fba-8929-58529ad42ab5"
      },
      "outputs": [
        {
          "name": "stdout",
          "output_type": "stream",
          "text": [
            "# ==========================================================\n",
            "# = Solver Results                                         =\n",
            "# ==========================================================\n",
            "# ----------------------------------------------------------\n",
            "#   Problem Information\n",
            "# ----------------------------------------------------------\n",
            "Problem: \n",
            "- Name: unknown\n",
            "  Lower bound: 4.4\n",
            "  Upper bound: 4.4\n",
            "  Number of objectives: 1\n",
            "  Number of constraints: 4\n",
            "  Number of variables: 5\n",
            "  Number of nonzeros: 7\n",
            "  Sense: minimize\n",
            "# ----------------------------------------------------------\n",
            "#   Solver Information\n",
            "# ----------------------------------------------------------\n",
            "Solver: \n",
            "- Status: ok\n",
            "  Termination condition: optimal\n",
            "  Statistics: \n",
            "    Branch and bound: \n",
            "      Number of bounded subproblems: 0\n",
            "      Number of created subproblems: 0\n",
            "  Error rc: 0\n",
            "  Time: 0.015387773513793945\n",
            "# ----------------------------------------------------------\n",
            "#   Solution Information\n",
            "# ----------------------------------------------------------\n",
            "Solution: \n",
            "- number of solutions: 0\n",
            "  number of solutions displayed: 0\n",
            "\n",
            "Profit =  4.4\n",
            "\n",
            "Decision Variables\n",
            "y1 =  0.0\n",
            "y2 =  0.0\n",
            "y3 =  2.8\n",
            "y4 =  0.4\n",
            "\n",
            "Constraints\n",
            "dual_1 =  2.0\n",
            "dual_2 =  8.0\n",
            "dual_3 =  4.0\n"
          ]
        }
      ],
      "source": [
        "SolverFactory('glpk', executable='/usr/bin/glpsol').solve(model).write()\n",
        "\n",
        "# display solution\n",
        "print('\\nProfit = ', model.profit())\n",
        "\n",
        "print('\\nDecision Variables')\n",
        "print('y1 = ', model.y1())\n",
        "print('y2 = ', model.y2())\n",
        "print('y3 = ', model.y3())\n",
        "print('y4 = ', model.y4())\n",
        "\n",
        "print('\\nConstraints')\n",
        "print('dual_1 = ', model.dual_1())\n",
        "print('dual_2 = ', model.dual_2())\n",
        "print('dual_3 = ', model.dual_3())"
      ]
    },
    {
      "attachments": {},
      "cell_type": "markdown",
      "metadata": {
        "id": "_V90aGTzBwhO"
      },
      "source": [
        "5. Discussion Point\n",
        "\n",
        "    (a) The above instance had a unique optimum solution. Will this be true for all instances of the knapsack problem?\n",
        "\n",
        "    The uniqueness of the optimal solution depends on the specific instance of the Knapsack problem, i.e. the specific set of items and constraints. So it may not always be the case.\n",
        "  \n",
        "    (b) What happens if we remove the constraint x ≥ 0 in the first part?\n",
        "  \n",
        "    Removing the constraint will allow decision variable to take negative values, which does not make sense in the context of this question. (fraction of goods)\n",
        "  \n",
        "    (c) Can you list some more feasible solutions to this LP?\n",
        "  \n",
        "    (x1, x2, x3) = (0.5, 0, 0.5)\n",
        "    (x1, x2, x3) = (0.1, 0.1, 0.5)\n",
        "\n",
        "    (d)Can you think of more realistic applications for the knapsack problem?\n",
        "\n",
        "    It can be used for resource allocation when there is just limited amount of resource in the company. In addition, It can be used to logistics and inventory management, where goods or items need to be transported or stored in a limited space or with a limited carrying capacity.\n",
        "\n",
        "    (e)Why might it be practically important that only one good is chosen fractionally?\n",
        "  \n",
        "    - Feasibility: It's possible that the fractional parts of multiple items can combine to form a weight that is not a multiple of any item's weight, making it impossible to completely fill(optimize) the knapsack.\n",
        "    - Real-world constraints: It may be impractical to have fractional quantities of items in real world. \n",
        "\n",
        "\n",
        "\n",
        "\n",
        "\n"
      ]
    }
  ],
  "metadata": {
    "colab": {
      "provenance": []
    },
    "kernelspec": {
      "display_name": "Python 3",
      "name": "python3"
    },
    "language_info": {
      "name": "python"
    }
  },
  "nbformat": 4,
  "nbformat_minor": 0
}
